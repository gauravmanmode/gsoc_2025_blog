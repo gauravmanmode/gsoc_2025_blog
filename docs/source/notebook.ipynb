{
 "cells": [
  {
   "cell_type": "code",
   "execution_count": 1,
   "id": "42d4d318",
   "metadata": {},
   "outputs": [
    {
     "data": {
      "text/plain": [
       "{'bhhh': om.algos.bhhh,\n",
       " 'fides': om.algos.fides,\n",
       " 'gfo_differential_evolution': om.algos.gfo_differential_evolution,\n",
       " 'gfo_evolution_strategy': om.algos.gfo_evolution_strategy,\n",
       " 'gfo_genetic_algorithm': om.algos.gfo_genetic_algorithm,\n",
       " 'gfo_parallel_tempering': om.algos.gfo_parallel_tempering,\n",
       " 'gfo_pso': om.algos.gfo_pso,\n",
       " 'gfo_spiral_optimization': om.algos.gfo_spiral_optimization,\n",
       " 'iminuit_migrad': om.algos.iminuit_migrad,\n",
       " 'ipopt': om.algos.ipopt,\n",
       " 'nag_dfols': om.algos.nag_dfols,\n",
       " 'neldermead_parallel': om.algos.neldermead_parallel,\n",
       " 'nevergrad_cga': om.algos.nevergrad_cga,\n",
       " 'nevergrad_cmaes': om.algos.nevergrad_cmaes,\n",
       " 'nevergrad_de': om.algos.nevergrad_de,\n",
       " 'nevergrad_eda': om.algos.nevergrad_eda,\n",
       " 'nevergrad_emna': om.algos.nevergrad_emna,\n",
       " 'nevergrad_meta': om.algos.nevergrad_meta,\n",
       " 'nevergrad_ngopt': om.algos.nevergrad_ngopt,\n",
       " 'nevergrad_oneplusone': om.algos.nevergrad_oneplusone,\n",
       " 'nevergrad_pso': om.algos.nevergrad_pso,\n",
       " 'nevergrad_randomsearch': om.algos.nevergrad_randomsearch,\n",
       " 'nevergrad_samplingsearch': om.algos.nevergrad_samplingsearch,\n",
       " 'nevergrad_tbpsa': om.algos.nevergrad_tbpsa,\n",
       " 'nlopt_bobyqa': om.algos.nlopt_bobyqa,\n",
       " 'nlopt_ccsaq': om.algos.nlopt_ccsaq,\n",
       " 'nlopt_cobyla': om.algos.nlopt_cobyla,\n",
       " 'nlopt_crs2_lm': om.algos.nlopt_crs2_lm,\n",
       " 'nlopt_direct': om.algos.nlopt_direct,\n",
       " 'nlopt_esch': om.algos.nlopt_esch,\n",
       " 'nlopt_isres': om.algos.nlopt_isres,\n",
       " 'nlopt_lbfgsb': om.algos.nlopt_lbfgsb,\n",
       " 'nlopt_mma': om.algos.nlopt_mma,\n",
       " 'nlopt_newuoa': om.algos.nlopt_newuoa,\n",
       " 'nlopt_neldermead': om.algos.nlopt_neldermead,\n",
       " 'nlopt_praxis': om.algos.nlopt_praxis,\n",
       " 'nlopt_slsqp': om.algos.nlopt_slsqp,\n",
       " 'nlopt_sbplx': om.algos.nlopt_sbplx,\n",
       " 'nlopt_tnewton': om.algos.nlopt_tnewton,\n",
       " 'nlopt_var': om.algos.nlopt_var,\n",
       " 'pounders': om.algos.pounders,\n",
       " 'pygmo_bee_colony': om.algos.pygmo_bee_colony,\n",
       " 'pygmo_cmaes': om.algos.pygmo_cmaes,\n",
       " 'pygmo_compass_search': om.algos.pygmo_compass_search,\n",
       " 'pygmo_de': om.algos.pygmo_de,\n",
       " 'pygmo_de1220': om.algos.pygmo_de1220,\n",
       " 'pygmo_gaco': om.algos.pygmo_gaco,\n",
       " 'pygmo_gwo': om.algos.pygmo_gwo,\n",
       " 'pygmo_ihs': om.algos.pygmo_ihs,\n",
       " 'pygmo_mbh': om.algos.pygmo_mbh,\n",
       " 'pygmo_pso': om.algos.pygmo_pso,\n",
       " 'pygmo_pso_gen': om.algos.pygmo_pso_gen,\n",
       " 'pygmo_sade': om.algos.pygmo_sade,\n",
       " 'pygmo_sea': om.algos.pygmo_sea,\n",
       " 'pygmo_sga': om.algos.pygmo_sga,\n",
       " 'pygmo_simulated_annealing': om.algos.pygmo_simulated_annealing,\n",
       " 'pygmo_xnes': om.algos.pygmo_xnes,\n",
       " 'scipy_bfgs': om.algos.scipy_bfgs,\n",
       " 'scipy_basinhopping': om.algos.scipy_basinhopping,\n",
       " 'scipy_brute': om.algos.scipy_brute,\n",
       " 'scipy_cobyla': om.algos.scipy_cobyla,\n",
       " 'scipy_conjugate_gradient': om.algos.scipy_conjugate_gradient,\n",
       " 'scipy_differential_evolution': om.algos.scipy_differential_evolution,\n",
       " 'scipy_direct': om.algos.scipy_direct,\n",
       " 'scipy_dual_annealing': om.algos.scipy_dual_annealing,\n",
       " 'scipy_lbfgsb': om.algos.scipy_lbfgsb,\n",
       " 'scipy_ls_dogbox': om.algos.scipy_ls_dogbox,\n",
       " 'scipy_ls_lm': om.algos.scipy_ls_lm,\n",
       " 'scipy_ls_trf': om.algos.scipy_ls_trf,\n",
       " 'scipy_neldermead': om.algos.scipy_neldermead,\n",
       " 'scipy_newton_cg': om.algos.scipy_newton_cg,\n",
       " 'scipy_powell': om.algos.scipy_powell,\n",
       " 'scipy_shgo': om.algos.scipy_shgo,\n",
       " 'scipy_slsqp': om.algos.scipy_slsqp,\n",
       " 'scipy_truncated_newton': om.algos.scipy_truncated_newton,\n",
       " 'scipy_trust_constr': om.algos.scipy_trust_constr,\n",
       " 'tao_pounders': om.algos.tao_pounders,\n",
       " 'tranquilo': om.algos.tranquilo,\n",
       " 'tranquilo_ls': om.algos.tranquilo_ls}"
      ]
     },
     "execution_count": 1,
     "metadata": {},
     "output_type": "execute_result"
    }
   ],
   "source": [
    "import numpy as np\n",
    "import optimagic as om\n",
    "from optimagic.algorithms import AVAILABLE_ALGORITHMS\n",
    "AVAILABLE_ALGORITHMS"
   ]
  },
  {
   "cell_type": "code",
   "execution_count": null,
   "id": "bcb387f1",
   "metadata": {},
   "outputs": [],
   "source": [
    "problems = om.get_benchmark_problems(\"example\")\n"
   ]
  },
  {
   "cell_type": "code",
   "execution_count": 17,
   "id": "f8d94e21",
   "metadata": {},
   "outputs": [],
   "source": [
    "optimizers = [\n",
    "    \"scipy_truncated_newton\",\n",
    "    \"nevergrad_cmaes\",\n",
    "]"
   ]
  },
  {
   "cell_type": "code",
   "execution_count": 18,
   "id": "21131def",
   "metadata": {},
   "outputs": [
    {
     "name": "stderr",
     "output_type": "stream",
     "text": [
      "/home/gaurav/Documents/optimagic/src/optimagic/decorators.py:75: UserWarning:\n",
      "\n",
      "The following exception was caught:\n",
      "\n",
      "Traceback (most recent call last):\n",
      "  File \"/home/gaurav/Documents/optimagic/src/optimagic/decorators.py\", line 61, in wrapper_catch\n",
      "    res = func(*args, **kwargs)\n",
      "  File \"/home/gaurav/Documents/optimagic/src/optimagic/batch_evaluators.py\", line 142, in internal_func\n",
      "    return func(*args, **kwargs)\n",
      "  File \"/home/gaurav/Documents/optimagic/src/optimagic/optimization/optimize.py\", line 434, in minimize\n",
      "    problem = create_optimization_problem(\n",
      "  File \"/home/gaurav/Documents/optimagic/src/optimagic/optimization/create_optimization_problem.py\", line 410, in create_optimization_problem\n",
      "    fun_eval = convert_fun_output_to_function_value(fun_eval, problem_type)\n",
      "  File \"/home/gaurav/Documents/optimagic/src/optimagic/optimization/fun_value.py\", line 139, in convert_fun_output_to_function_value\n",
      "    out = _convert_output_to_scalar_function_value(raw)\n",
      "  File \"/home/gaurav/Documents/optimagic/src/optimagic/optimization/fun_value.py\", line 155, in _convert_output_to_scalar_function_value\n",
      "    out = ScalarFunctionValue(value=raw)\n",
      "  File \"<string>\", line 5, in __init__\n",
      "  File \"/home/gaurav/Documents/optimagic/src/optimagic/optimization/fun_value.py\", line 37, in __post_init__\n",
      "    raise InvalidFunctionError(\n",
      "optimagic.exceptions.InvalidFunctionError: Scalar objective values need to be scalars, not: <class 'numpy.ndarray'>. If you meant to provide a scalar objective function, make sure it returns a scalar value. If you meant to provide a least_squares or likelihood function, use the mark.least_squares or mark.likelihood decorators.\n",
      "\n",
      "\n",
      "/home/gaurav/miniforge3/envs/optimagic/lib/python3.10/site-packages/nevergrad/optimization/base.py:149: LossTooLargeWarning:\n",
      "\n",
      "Clipping very high value 1.0351639080516513e+22 in tell (rescale the cost function?).\n",
      "\n",
      "/home/gaurav/miniforge3/envs/optimagic/lib/python3.10/site-packages/nevergrad/optimization/base.py:149: LossTooLargeWarning:\n",
      "\n",
      "Clipping very high value 7.906699412671916e+20 in tell (rescale the cost function?).\n",
      "\n",
      "/home/gaurav/miniforge3/envs/optimagic/lib/python3.10/site-packages/nevergrad/optimization/base.py:149: LossTooLargeWarning:\n",
      "\n",
      "Clipping very high value 2.0877915574080402e+42 in tell (rescale the cost function?).\n",
      "\n",
      "/home/gaurav/Documents/optimagic/src/optimagic/optimization/fun_value.py:83: RuntimeWarning:\n",
      "\n",
      "overflow encountered in matmul\n",
      "\n",
      "/home/gaurav/Documents/optimagic/src/optimagic/benchmarking/more_wild.py:207: RuntimeWarning:\n",
      "\n",
      "overflow encountered in exp\n",
      "\n",
      "/home/gaurav/Documents/optimagic/src/optimagic/benchmarking/more_wild.py:208: RuntimeWarning:\n",
      "\n",
      "overflow encountered in exp\n",
      "\n",
      "/home/gaurav/miniforge3/envs/optimagic/lib/python3.10/site-packages/nevergrad/optimization/base.py:149: LossTooLargeWarning:\n",
      "\n",
      "Clipping very high value 7.31745548895608e+21 in tell (rescale the cost function?).\n",
      "\n"
     ]
    }
   ],
   "source": [
    "results = om.run_benchmark(\n",
    "    problems,\n",
    "    optimizers,\n",
    ")"
   ]
  },
  {
   "cell_type": "code",
   "execution_count": 15,
   "id": "613b46b3",
   "metadata": {},
   "outputs": [
    {
     "data": {
      "application/vnd.plotly.v1+json": {
       "config": {
        "plotlyServerURL": "https://plot.ly"
       },
       "data": [
        {
         "legendgroup": "0",
         "line": {
          "color": "#636EFA"
         },
         "mode": "lines",
         "name": "nag_dfols",
         "type": "scatter",
         "x": {
          "bdata": "AAECAwQFBgcICQoLDA0ODxAREhMUFRYXGBkaGxwd",
          "dtype": "i1"
         },
         "xaxis": "x",
         "y": {
          "bdata": "////////7z8/2Zb5sMPSPz/Zlvmww9I/qz3MyvrMxD+KqUfbBzDEP4qpR9sHMMQ/iqlH2wcwxD/0GT9G7pW9P6/dmnkBvrU/r92aeQG+tT+v3Zp5Ab61P6/dmnkBvrU/r92aeQG+tT/2+cb+O8WwP/b5xv47xbA/1J3Abs86rz8USs59pSqvP9sajk+Cr5g/2xqOT4KvmD+vwsiJSYWOP6/CyIlJhY4/r8LIiUmFjj9AfjeLlMB6P0B+N4uUwHo/QH43i5TAej8zuGiAKgdqPzO4aIAqB2o/Nunw3xLyLj826fDfEvIuP4UQ8EEWitI+",
          "dtype": "f8"
         },
         "yaxis": "y"
        },
        {
         "legendgroup": "1",
         "line": {
          "color": "#EF553B"
         },
         "mode": "lines",
         "name": "scipy_neldermead",
         "type": "scatter",
         "x": {
          "bdata": "AAECAwQFBgcICQoLDA0ODxAREhMUFRYXGBkaGxwdHh8gISIjJCUmJygpKissLS4vMDEyMzQ1Njc4OTo7PD0+P0BBQkNERUZHSElKS0xNTk9QUVJTVFVWV1hZWltcXV5fYGFiY2RlZmdoaWprbG1ub3Bx",
          "dtype": "i1"
         },
         "xaxis": "x",
         "y": {
          "bdata": "////////7z/////////vPzs7BG4sg+o/HBkqx2CW3D8Xo9LmU03LPxxO/iI9ysc/HE7+Ij3Kxz8cTv4iPcrHPxxO/iI9ysc/HE7+Ij3Kxz9jIBErlCzHP2MgESuULMc/SX67U090xj+lVJh4307GP6VUmHjfTsY/pVSYeN9Oxj/sbSHbS0bGP7lw9y7+8sU/Lf/lx8DfxT8t/+XHwN/FPy3/5cfA38U/iUmakjyMxT/ZWmFdbjnFPx6OTqadFsU/dbSwy2jTxD8lih7+W/LDPyvKpXAbDsM/K8qlcBsOwz/UED9vb1XCP9QQP29vVcI/NDpr2AyHwT8WrQWQsgLBPw+RbNdyvcA/D5Fs13K9wD/w5xL3dh++P32HJ2Z4orw/fYcnZniivD8b5IO5iH63P6HgS8EbLrU/oeBLwRsutT+h4EvBGy61P6HgS8EbLrU/oeBLwRsutT/cM7S/Hqm0PwkfueFfNLM/CR+54V80sz/4u+OlDFqyPw1gW6I4j68/LNHnovvcqz8s0eei+9yrPyzR56L73Ks/O6tjMBqIqD87q2MwGoioPzurYzAaiKg/BGVYntTHpj8b5lAfK7GiPxvmUB8rsaI/G+ZQHyuxoj8b5lAfK7GiP8n+fMlIZ6A/pX1WL6pQnD+lfVYvqlCcP6V9Vi+qUJw/pX1WL6pQnD8kZWB1D7aWPyRlYHUPtpY/JGVgdQ+2lj8kZWB1D7aWP2D5IZbc1pQ/66YBvUnpkT/rpgG9SemRP+umAb1J6ZE/3/naRwHdkD/f+dpHAd2QPyn70ipNyIw/v8+Bsu+cij+/z4Gy75yKP7fSZfORyoI/ZNnuPywbgD9k2e4/LBuAP2TZ7j8sG4A/ZNnuPywbgD+3wC1zbS53P7fALXNtLnc/t8Atc20udz+3wC1zbS53P7fALXNtLnc/u/Ozxcolcz+787PFyiVzP5lZATA8tXI/agndV1tScT9qCd1XW1JxP2oJ3VdbUnE/SAVtSj8gcT9oit9nDe1tPz0ujA4i6Wo/PS6MDiLpaj89LowOIulqP4xNoaYEOGU/O93YvnNFYz873di+c0VjPzvd2L5zRWM/L14f0VEhXj/c56my91hXPwChE9j1MFM/f2T7x1BPSD9/ZPvHUE9IP7Ml+9Vs8kY/ezlY0ne+JT97OVjSd74lP3s5WNJ3viU/ezlY0ne+JT97OVjSd74lP61HPj2sB/A+",
          "dtype": "f8"
         },
         "yaxis": "y"
        },
        {
         "legendgroup": "2",
         "line": {
          "color": "#00CC96"
         },
         "mode": "lines",
         "name": "scipy_truncated_newton",
         "type": "scatter",
         "x": {
          "bdata": "AAECAwQFBgcICQoLDA0ODxAREhMUFRYXGBkaGxwdHh8gISIjJCUmJygpKissLS4vMDEyMzQ1Njc4OTo7PD0+P0BBQkNERUZHSElKS0xNTg==",
          "dtype": "i1"
         },
         "xaxis": "x",
         "y": {
          "bdata": "////////7z/568BY///vPwySF5vsh8g/6NfZmeyHyD95FjHFuQTGP3kWMcW5BMY/eRYxxbkExj95FjHFuQTGP0SH4pgVwsU/ddhGjRXCxT++6DaorLbFP9kFM6istsU/ebTlcJ2mxT+qx40ROVbFP6rHjRE5VsU/EQ8DBkYAwj8RDwMGRgDCP8U/XH1m6ME/tvKffGbowT8/7Hr6mgPAP97K2rjdXbs/Hg5V4i84uj/Zz09I5Dq5P0DO8EXkOrk/Otq82GRBtz862rzYZEG3PzravNhkQbc/Uc+3FnwNtz+Qq5AnAde2Pw0iDicB17Y/v8N3yzSItT8S9/kA+SOyPxL3+QD5I7I/LiYtAf3ksT9RkkH//OSxP1kOyxLG3a8/LaLPBsbdrz/T52FwiIqpPxLEM/zicqE/iDLA8eJyoT+IMsDx4nKhP4gywPHicqE/5fyfTpa6lT/l/J9OlrqVPwSbSRTZmZU/vHLJE9mZlT9wHOGYAS2VP34DdJgBLZU/8blIhqRMlD9rPfuIQjWRP2s9+4hCNZE/az37iEI1kT8slaTxPWiAPyyVpPE9aIA/UELMldc2ez9pT0Z9Ect5P/kYg3MRy3k/Sg4s/2Aqdz96rhH/YCp3P7TJ65K7r3U/URGDfB7YcD/aoWZ4HthwP9qhZnge2HA/k4CZQIwXbT/zoWF5DKdmP6O0tcrqpGY/n0s1vvcFZj/mua+r9wVmP2rBmr//elY/3oidvv96Vj/eiJ2+/3pWP2iY9VtFgkI/aJj1W0WCQj9omPVbRYJCP5EYM3E0D0I/MY8JaTQPQj8mJvO7af8xP3Ss/KNp/zE/oTHgMgMaFD8=",
          "dtype": "f8"
         },
         "yaxis": "y"
        },
        {
         "legendgroup": "3",
         "line": {
          "color": "#AB63FA"
         },
         "mode": "lines",
         "name": "nevergrad_cmaes",
         "type": "scatter",
         "x": {
          "bdata": "AAABAAIAAwAEAAUABgAHAAgACQAKAAsADAANAA4ADwAQABEAEgATABQAFQAWABcAGAAZABoAGwAcAB0AHgAfACAAIQAiACMAJAAlACYAJwAoACkAKgArACwALQAuAC8AMAAxADIAMwA0ADUANgA3ADgAOQA6ADsAPAA9AD4APwBAAEEAQgBDAEQARQBGAEcASABJAEoASwBMAE0ATgBPAFAAUQBSAFMAVABVAFYAVwBYAFkAWgBbAFwAXQBeAF8AYABhAGIAYwBkAGUAZgBnAGgAaQBqAGsAbABtAG4AbwBwAHEAcgBzAHQAdQB2AHcAeAB5AHoAewB8AH0AfgB/AIAAgQCCAIMAhACFAIYAhwCIAIkAigCLAIwAjQCOAI8AkACRAJIAkwCUAJUAlgCXAJgAmQCaAJsAnACdAJ4AnwCgAKEAogCjAKQApQCmAKcAqACpAKoAqwCsAK0ArgCvALAAsQCyALMAtAC1ALYAtwC4ALkAugC7ALwAvQC+AL8AwADBAMIAwwDEAMUAxgDHAMgAyQDKAMsAzADNAM4AzwDQANEA0gDTANQA1QDWANcA2ADZANoA2wDcAN0A3gDfAOAA4QDiAOMA5ADlAOYA5wDoAOkA6gDrAOwA7QDuAO8A8ADxAPIA8wD0APUA9gD3APgA+QD6APsA/AD9AP4A/wAAAQEBAgEDAQQBBQEGAQcBCAEJAQoBCwEMAQ0BDgEPARABEQESARMBFAEVARYBFwEYARkBGgEbARwBHQEeAR8BIAEhASIBIwEkASUBJgEnASgBKQEqASsBLAEtAS4BLwEwATEBMgEzATQBNQE2ATcBOAE5AToBOwE8AT0BPgE/AUABQQFCAUMBRAFFAUYBRwFIAUkBSgFLAUwBTQFOAU8BUAFRAVIBUwFUAVUBVgFXAVgBWQFaAVsBXAFdAV4BXwFgAWEBYgFjAWQBZQFmAWcBaAFpAWoBawFsAW0BbgFvAXABcQFyAXMBdAF1AXYBdwF4AXkBegF7AXwBfQF+AX8BgAGBAYIBgwGEAYUBhgGHAYgBiQGKAYsBjAGNAY4BjwGQAZEBkgGTAZQBlQGWAZcBmAGZAZoBmwGcAZ0BngGfAaABoQGiAaMBpAGlAaYBpwGoAakBqgGrAawBrQGuAa8BsAGxAbIBswG0AbUBtgG3AbgBuQG6AbsBvAG9Ab4BvwHAAcEBwgHDAcQBxQHGAccByAHJAcoBywHMAc0BzgHPAdAB0QHSAdMB1AHVAdYB1wHYAdkB2gHbAdwB3QHeAd8B4AHhAeIB4wHkAeUB5gHnAegB6QHqAesB7AHtAe4B7wHwAfEB8gHzAfQB9QE=",
          "dtype": "i2"
         },
         "xaxis": "x",
         "y": {
          "bdata": "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",
          "dtype": "f8"
         },
         "yaxis": "y"
        },
        {
         "legendgroup": "4",
         "line": {
          "color": "#FFA15A"
         },
         "mode": "lines",
         "name": "nevergrad_meta",
         "type": "scatter",
         "x": {
          "bdata": "AAABAAIAAwAEAAUABgAHAAgACQAKAAsADAANAA4ADwAQABEAEgATABQAFQAWABcAGAAZABoAGwAcAB0AHgAfACAAIQAiACMAJAAlACYAJwAoACkAKgArACwALQAuAC8AMAAxADIAMwA0ADUANgA3ADgAOQA6ADsAPAA9AD4APwBAAEEAQgBDAEQARQBGAEcASABJAEoASwBMAE0ATgBPAFAAUQBSAFMAVABVAFYAVwBYAFkAWgBbAFwAXQBeAF8AYABhAGIAYwBkAGUAZgBnAGgAaQBqAGsAbABtAG4AbwBwAHEAcgBzAHQAdQB2AHcAeAB5AHoAewB8AH0AfgB/AIAAgQCCAIMAhACFAIYAhwCIAIkAigCLAIwAjQCOAI8AkACRAJIAkwCUAJUAlgCXAJgAmQCaAJsAnACdAJ4AnwCgAKEAogCjAKQApQCmAKcAqACpAKoAqwCsAK0ArgCvALAAsQCyALMAtAC1ALYAtwC4ALkAugC7ALwAvQC+AL8AwADBAMIAwwDEAMUAxgDHAMgAyQDKAMsAzADNAM4AzwDQANEA0gDTANQA1QDWANcA2ADZANoA2wDcAN0A3gDfAOAA4QDiAOMA5ADlAOYA5wDoAOkA6gDrAOwA7QDuAO8A8ADxAPIA8wD0APUA9gD3APgA+QD6APsA/AD9AP4A/wAAAQEBAgEDAQQBBQEGAQcBCAEJAQoBCwEMAQ0BDgEPARABEQESARMBFAEVARYBFwEYARkBGgEbARwBHQEeAR8BIAEhASIBIwEkASUBJgEnASgBKQEqASsBLAEtAS4BLwEwATEBMgEzATQBNQE2ATcBOAE5AToBOwE8AT0BPgE/AUABQQFCAUMBRAFFAUYBRwFIAUkBSgFLAUwBTQFOAU8BUAFRAVIBUwFUAVUBVgFXAVgBWQFaAVsBXAFdAV4BXwFgAWEBYgFjAWQBZQFmAWcBaAFpAWoBawFsAW0BbgFvAXABcQFyAXMBdAF1AXYBdwF4AXkBegF7AXwBfQF+AX8BgAGBAYIBgwGEAYUBhgGHAYgBiQGKAYsBjAGNAY4BjwGQAZEBkgGTAZQBlQGWAZcBmAGZAZoBmwGcAZ0BngGfAaABoQGiAaMBpAGlAaYBpwGoAakBqgGrAawBrQGuAa8BsAGxAbIBswG0AbUBtgG3AbgBuQG6AbsBvAG9Ab4BvwHAAcEBwgHDAcQBxQHGAccByAHJAcoBywHMAc0BzgHPAdAB0QHSAdMB1AHVAdYB1wHYAdkB2gHbAdwB3QHeAd8B4AHhAeIB4wHkAeUB5gHnAegB6QHqAesB7AHtAe4B7wHwAfEB8gHzAfQB9QH2AfcB+AH5AfoB+wH8Af0B/gH/AQACAQICAgMCBAIFAgYCBwIIAgkCCgILAgwCDQIOAg8CEAIRAhICEwIUAhUCFgIXAhgCGQIaAg==",
          "dtype": "i2"
         },
         "xaxis": "x",
         "y": {
          "bdata": "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",
          "dtype": "f8"
         },
         "yaxis": "y"
        },
        {
         "legendgroup": "0",
         "line": {
          "color": "#636EFA"
         },
         "mode": "lines",
         "name": "nag_dfols",
         "showlegend": false,
         "type": "scatter",
         "x": {
          "bdata": "AAECAwQFBgcICQo=",
          "dtype": "i1"
         },
         "xaxis": "x2",
         "y": {
          "bdata": "+cdknf//7z/5x2Sd///vP8QVNASU5O8/xBU0BJTk7z8GXXYlusvmP1BA1dYH4M8/Ye8jlOZSlT86JhzoIDBBP1OyX7L+TR4/U7Jfsv5NHj98CaYa1F0RPw==",
          "dtype": "f8"
         },
         "yaxis": "y2"
        },
        {
         "legendgroup": "1",
         "line": {
          "color": "#EF553B"
         },
         "mode": "lines",
         "name": "scipy_neldermead",
         "showlegend": false,
         "type": "scatter",
         "x": {
          "bdata": "AAABAAIAAwAEAAUABgAHAAgACQAKAAsADAANAA4ADwAQABEAEgATABQAFQAWABcAGAAZABoAGwAcAB0AHgAfACAAIQAiACMAJAAlACYAJwAoACkAKgArACwALQAuAC8AMAAxADIAMwA0ADUANgA3ADgAOQA6ADsAPAA9AD4APwBAAEEAQgBDAEQARQBGAEcASABJAEoASwBMAE0ATgBPAFAAUQBSAFMAVABVAFYAVwBYAFkAWgBbAFwAXQBeAF8AYABhAGIAYwBkAGUAZgBnAGgAaQBqAGsAbABtAG4AbwBwAHEAcgBzAHQAdQB2AHcAeAB5AHoAewB8AH0AfgB/AIAAgQCCAIMAhACFAIYAhwCIAIkAigCLAIwAjQCOAI8AkACRAJIAkwCUAJUAlgCXAJgAmQCaAJsAnACdAJ4AnwCgAKEAogCjAKQApQCmAKcAqACpAKoAqwCsAK0ArgCvALAAsQCyALMAtAC1ALYAtwC4ALkAugC7ALwAvQC+AL8AwADBAMIAwwDEAMUAxgDHAMgAyQDKAMsAzADNAM4AzwDQANEA0gDTANQA1QDWANcA2ADZANoA2wDcAN0A3gDfAOAA4QDiAOMA5ADlAOYA5wDoAOkA6gDrAOwA7QDuAO8A8ADxAPIA8wD0APUA9gD3APgA+QD6APsA/AD9AP4A/wAAAQEBAgEDAQQBBQEGAQcBCAEJAQoBCwEMAQ0BDgEPARABEQESARMBFAEVARYBFwEYARkBGgEbARwBHQEeAR8BIAEhASIBIwEkASUBJgEnASgBKQEqASsBLAEtAS4BLwEwATEBMgEzATQBNQE2ATcBOAE5AToBOwE8AT0BPgE/AUABQQFCAUMBRAFFAUYBRwFIAUkBSgE=",
          "dtype": "i2"
         },
         "xaxis": "x2",
         "y": {
          "bdata": "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",
          "dtype": "f8"
         },
         "yaxis": "y2"
        },
        {
         "legendgroup": "2",
         "line": {
          "color": "#00CC96"
         },
         "mode": "lines",
         "name": "scipy_truncated_newton",
         "showlegend": false,
         "type": "scatter",
         "x": {
          "bdata": "AAECAwQFBgcICQo=",
          "dtype": "i1"
         },
         "xaxis": "x2",
         "y": {
          "bdata": "+cdknf//7z/H8BCL///vP/8YSS+B98I//xhJL4H3wj//GEkvgffCP/8YSS+B98I/qC1qPJGAQz8ExgMZkYBDP38o7WOYZEM//gAaXJhkQz/de+6ph3YNPw==",
          "dtype": "f8"
         },
         "yaxis": "y2"
        },
        {
         "legendgroup": "3",
         "line": {
          "color": "#AB63FA"
         },
         "mode": "lines",
         "name": "nevergrad_cmaes",
         "showlegend": false,
         "type": "scatter",
         "x": {
          "bdata": "AAABAAIAAwAEAAUABgAHAAgACQAKAAsADAANAA4ADwAQABEAEgATABQAFQAWABcAGAAZABoAGwAcAB0AHgAfACAAIQAiACMAJAAlACYAJwAoACkAKgArACwALQAuAC8AMAAxADIAMwA0ADUANgA3ADgAOQA6ADsAPAA9AD4APwBAAEEAQgBDAEQARQBGAEcASABJAEoASwBMAE0ATgBPAFAAUQBSAFMAVABVAFYAVwBYAFkAWgBbAFwAXQBeAF8AYABhAGIAYwBkAGUAZgBnAGgAaQBqAGsAbABtAG4AbwBwAHEAcgBzAHQAdQB2AHcAeAB5AHoAewB8AH0AfgB/AIAAgQCCAIMAhACFAIYAhwCIAIkAigA=",
          "dtype": "i2"
         },
         "xaxis": "x2",
         "y": {
          "bdata": "E2mmPolh8D/VsTS527fuP2/AbE3+GO4/b8BsTf4Y7j9vwGxN/hjuP2/AbE3+GO4/b8BsTf4Y7j9vwGxN/hjuP2/AbE3+GO4/b8BsTf4Y7j/UYHQ1UDLpP9RgdDVQMuk/1GB0NVAy6T/UYHQ1UDLpP9RgdDVQMuk/1GB0NVAy6T/UYHQ1UDLpP9RgdDVQMuk/1GB0NVAy6T/UYHQ1UDLpP9RgdDVQMuk/1GB0NVAy6T9CxHx0hYLjP0LEfHSFguM/QsR8dIWC4z9CxHx0hYLjP0LEfHSFguM/4pvmxzXC4D/hXw83mRDeP+FfDzeZEN4/6nmetT310T/qeZ61PfXRP+p5nrU99dE/6nmetT310T/qeZ61PfXRP+p5nrU99dE/6nmetT310T/lsHyGtWvKP+WwfIa1a8o/5bB8hrVryj/lsHyGtWvKP+WwfIa1a8o/5bB8hrVryj/lsHyGtWvKP+WwfIa1a8o/5bB8hrVryj/lsHyGtWvKPyIPUUw3zb4/ykMt2RPrvD8GhH/Xwui6PwaEf9fC6Lo/czRQgZ0CuT9zNFCBnQK5P3M0UIGdArk/czRQgZ0CuT9zNFCBnQK5P9v7+/R+WIM/onmp5rjUfT+ieanmuNR9P6J5qea41H0/onmp5rjUfT+ieanmuNR9P6J5qea41H0/onmp5rjUfT+ieanmuNR9P6J5qea41H0/uo65nsmXXT+6jrmeyZddP7qOuZ7Jl10/uo65nsmXXT+6jrmeyZddP7qOuZ7Jl10/uo65nsmXXT+6jrmeyZddP7qOuZ7Jl10/uo65nsmXXT+6jrmeyZddP7qOuZ7Jl10/uo65nsmXXT+6jrmeyZddP7qOuZ7Jl10/uo65nsmXXT+6jrmeyZddP7qOuZ7Jl10/uo65nsmXXT+6jrmeyZddP7qOuZ7Jl10/uo65nsmXXT+6jrmeyZddP7qOuZ7Jl10/uo65nsmXXT+6jrmeyZddP7qOuZ7Jl10/uo65nsmXXT+6jrmeyZddP7qOuZ7Jl10/uo65nsmXXT+6jrmeyZddP7qOuZ7Jl10/4o6wjTSGPD/ijrCNNIY8P+KOsI00hjw/4o6wjTSGPD/ijrCNNIY8P+KOsI00hjw/4o6wjTSGPD/ijrCNNIY8P+KOsI00hjw/4o6wjTSGPD/ijrCNNIY8P+KOsI00hjw/4o6wjTSGPD/ijrCNNIY8P+KOsI00hjw/4o6wjTSGPD/ijrCNNIY8P+KOsI00hjw/4o6wjTSGPD/ijrCNNIY8P+KOsI00hjw/4o6wjTSGPD/ijrCNNIY8P+KOsI00hjw/4o6wjTSGPD/ijrCNNIY8P+KOsI00hjw/4o6wjTSGPD/ijrCNNIY8P+KOsI00hjw/4o6wjTSGPD/ijrCNNIY8P+KOsI00hjw/4o6wjTSGPD/ijrCNNIY8P+KOsI00hjw/4o6wjTSGPD/ijrCNNIY8P+KOsI00hjw/uKnzLrFTEj8=",
          "dtype": "f8"
         },
         "yaxis": "y2"
        },
        {
         "legendgroup": "4",
         "line": {
          "color": "#FFA15A"
         },
         "mode": "lines",
         "name": "nevergrad_meta",
         "showlegend": false,
         "type": "scatter",
         "x": {
          "bdata": "AAABAAIAAwAEAAUABgAHAAgACQAKAAsADAANAA4ADwAQABEAEgATABQAFQAWABcAGAAZABoAGwAcAB0AHgAfACAAIQAiACMAJAAlACYAJwAoACkAKgArACwALQAuAC8AMAAxADIAMwA0ADUANgA3ADgAOQA6ADsAPAA9AD4APwBAAEEAQgBDAEQARQBGAEcASABJAEoASwBMAE0ATgBPAFAAUQBSAFMAVABVAFYAVwBYAFkAWgBbAFwAXQBeAF8AYABhAGIAYwBkAGUAZgBnAGgAaQBqAGsAbABtAG4AbwBwAHEAcgBzAHQAdQB2AHcAeAB5AHoAewB8AH0AfgB/AIAAgQCCAIMAhACFAIYAhwCIAIkA",
          "dtype": "i2"
         },
         "xaxis": "x2",
         "y": {
          "bdata": "9JaG1Fd17D/0lobUV3XsP/SWhtRXdew/9JaG1Fd17D/Mv/kQx//rP8y/+RDH/+s/zL/5EMf/6z/Mv/kQx//rP8y/+RDH/+s/tiY0jqEu6z+2JjSOoS7rP7YmNI6hLus/tiY0jqEu6z+2JjSOoS7rP7YmNI6hLus/tiY0jqEu6z+2JjSOoS7rP41aKJXP3uo/jVoolc/e6j+NWiiVz97qP41aKJXP3uo/jVoolc/e6j82BcbyvuTpPxV70dbjn+k/z447pKVQ6T/PjjukpVDpP8+OO6SlUOk/z447pKVQ6T/PjjukpVDpPyvHw3G7nug/K8fDcbue6D8rx8Nxu57oPxez/+6mO+Y/F7P/7qY75j/X/QcU0wbmP5TBnzpto+I/lMGfOm2j4j+UwZ86baPiP5TBnzpto+I/lMGfOm2j4j8XDZ8GRqDiPxcNnwZGoOI/Fw2fBkag4j8XDZ8GRqDiPxcNnwZGoOI/1OThxCgM1D/U5OHEKAzUP9Tk4cQoDNQ/1OThxCgM1D/U5OHEKAzUP49C1DbEisc/j0LUNsSKxz+PQtQ2xIrHP49C1DbEisc/j0LUNsSKxz/9nJaCxNDCP/2cloLE0MI//ZyWgsTQwj/9nJaCxNDCP/2cloLE0MI//ZyWgsTQwj/9nJaCxNDCP/2cloLE0MI//ZyWgsTQwj/9nJaCxNDCP+bmD6RnLMI/5uYPpGcswj/m5g+kZyzCP+bmD6RnLMI/5uYPpGcswj/m5g+kZyzCP+bmD6RnLMI/5uYPpGcswj/m5g+kZyzCP4udVGNJ0rI/i51UY0nSsj+LnVRjSdKyP4udVGNJ0rI/i51UY0nSsj+LnVRjSdKyP4udVGNJ0rI/i51UY0nSsj+LnVRjSdKyP4udVGNJ0rI/i51UY0nSsj/WOyvQeSWRP9Y7K9B5JZE/1jsr0HklkT/WOyvQeSWRP9Y7K9B5JZE/aAigqE45iD9oCKCoTjmIP2gIoKhOOYg/aAigqE45iD9oCKCoTjmIP2gIoKhOOYg/aAigqE45iD9oCKCoTjmIP2gIoKhOOYg/aAigqE45iD9oCKCoTjmIP2gIoKhOOYg/aAigqE45iD9oCKCoTjmIP2gIoKhOOYg/aAigqE45iD9oCKCoTjmIP2gIoKhOOYg/aAigqE45iD9rLqoBjgBTP2suqgGOAFM/ay6qAY4AUz9rLqoBjgBTP2suqgGOAFM/ay6qAY4AUz9rLqoBjgBTP2suqgGOAFM/ay6qAY4AUz9rLqoBjgBTP2suqgGOAFM/ay6qAY4AUz9rLqoBjgBTP2suqgGOAFM/ay6qAY4AUz9rLqoBjgBTP2suqgGOAFM/ay6qAY4AUz9rLqoBjgBTP2suqgGOAFM/ay6qAY4AUz9rLqoBjgBTP2suqgGOAFM/ay6qAY4AUz9rLqoBjgBTP2suqgGOAFM/ay6qAY4AUz8HDNntM9ciP1JCRneq8fk+",
          "dtype": "f8"
         },
         "yaxis": "y2"
        }
       ],
       "layout": {
        "annotations": [
         {
          "font": {
           "size": 16
          },
          "showarrow": false,
          "text": "Rosenbrock Good Start",
          "x": 0.225,
          "xanchor": "center",
          "xref": "paper",
          "y": 1,
          "yanchor": "bottom",
          "yref": "paper"
         },
         {
          "font": {
           "size": 16
          },
          "showarrow": false,
          "text": "Box 3D",
          "x": 0.775,
          "xanchor": "center",
          "xref": "paper",
          "y": 1,
          "yanchor": "bottom",
          "yref": "paper"
         }
        ],
        "height": 320,
        "margin": {
         "b": 10,
         "l": 10,
         "r": 10,
         "t": 30
        },
        "template": {
         "data": {
          "bar": [
           {
            "error_x": {
             "color": "rgb(36,36,36)"
            },
            "error_y": {
             "color": "rgb(36,36,36)"
            },
            "marker": {
             "line": {
              "color": "white",
              "width": 0.5
             },
             "pattern": {
              "fillmode": "overlay",
              "size": 10,
              "solidity": 0.2
             }
            },
            "type": "bar"
           }
          ],
          "barpolar": [
           {
            "marker": {
             "line": {
              "color": "white",
              "width": 0.5
             },
             "pattern": {
              "fillmode": "overlay",
              "size": 10,
              "solidity": 0.2
             }
            },
            "type": "barpolar"
           }
          ],
          "carpet": [
           {
            "aaxis": {
             "endlinecolor": "rgb(36,36,36)",
             "gridcolor": "white",
             "linecolor": "white",
             "minorgridcolor": "white",
             "startlinecolor": "rgb(36,36,36)"
            },
            "baxis": {
             "endlinecolor": "rgb(36,36,36)",
             "gridcolor": "white",
             "linecolor": "white",
             "minorgridcolor": "white",
             "startlinecolor": "rgb(36,36,36)"
            },
            "type": "carpet"
           }
          ],
          "choropleth": [
           {
            "colorbar": {
             "outlinewidth": 1,
             "tickcolor": "rgb(36,36,36)",
             "ticks": "outside"
            },
            "type": "choropleth"
           }
          ],
          "contour": [
           {
            "colorbar": {
             "outlinewidth": 1,
             "tickcolor": "rgb(36,36,36)",
             "ticks": "outside"
            },
            "colorscale": [
             [
              0,
              "#440154"
             ],
             [
              0.1111111111111111,
              "#482878"
             ],
             [
              0.2222222222222222,
              "#3e4989"
             ],
             [
              0.3333333333333333,
              "#31688e"
             ],
             [
              0.4444444444444444,
              "#26828e"
             ],
             [
              0.5555555555555556,
              "#1f9e89"
             ],
             [
              0.6666666666666666,
              "#35b779"
             ],
             [
              0.7777777777777778,
              "#6ece58"
             ],
             [
              0.8888888888888888,
              "#b5de2b"
             ],
             [
              1,
              "#fde725"
             ]
            ],
            "type": "contour"
           }
          ],
          "contourcarpet": [
           {
            "colorbar": {
             "outlinewidth": 1,
             "tickcolor": "rgb(36,36,36)",
             "ticks": "outside"
            },
            "type": "contourcarpet"
           }
          ],
          "heatmap": [
           {
            "colorbar": {
             "outlinewidth": 1,
             "tickcolor": "rgb(36,36,36)",
             "ticks": "outside"
            },
            "colorscale": [
             [
              0,
              "#440154"
             ],
             [
              0.1111111111111111,
              "#482878"
             ],
             [
              0.2222222222222222,
              "#3e4989"
             ],
             [
              0.3333333333333333,
              "#31688e"
             ],
             [
              0.4444444444444444,
              "#26828e"
             ],
             [
              0.5555555555555556,
              "#1f9e89"
             ],
             [
              0.6666666666666666,
              "#35b779"
             ],
             [
              0.7777777777777778,
              "#6ece58"
             ],
             [
              0.8888888888888888,
              "#b5de2b"
             ],
             [
              1,
              "#fde725"
             ]
            ],
            "type": "heatmap"
           }
          ],
          "histogram": [
           {
            "marker": {
             "line": {
              "color": "white",
              "width": 0.6
             }
            },
            "type": "histogram"
           }
          ],
          "histogram2d": [
           {
            "colorbar": {
             "outlinewidth": 1,
             "tickcolor": "rgb(36,36,36)",
             "ticks": "outside"
            },
            "colorscale": [
             [
              0,
              "#440154"
             ],
             [
              0.1111111111111111,
              "#482878"
             ],
             [
              0.2222222222222222,
              "#3e4989"
             ],
             [
              0.3333333333333333,
              "#31688e"
             ],
             [
              0.4444444444444444,
              "#26828e"
             ],
             [
              0.5555555555555556,
              "#1f9e89"
             ],
             [
              0.6666666666666666,
              "#35b779"
             ],
             [
              0.7777777777777778,
              "#6ece58"
             ],
             [
              0.8888888888888888,
              "#b5de2b"
             ],
             [
              1,
              "#fde725"
             ]
            ],
            "type": "histogram2d"
           }
          ],
          "histogram2dcontour": [
           {
            "colorbar": {
             "outlinewidth": 1,
             "tickcolor": "rgb(36,36,36)",
             "ticks": "outside"
            },
            "colorscale": [
             [
              0,
              "#440154"
             ],
             [
              0.1111111111111111,
              "#482878"
             ],
             [
              0.2222222222222222,
              "#3e4989"
             ],
             [
              0.3333333333333333,
              "#31688e"
             ],
             [
              0.4444444444444444,
              "#26828e"
             ],
             [
              0.5555555555555556,
              "#1f9e89"
             ],
             [
              0.6666666666666666,
              "#35b779"
             ],
             [
              0.7777777777777778,
              "#6ece58"
             ],
             [
              0.8888888888888888,
              "#b5de2b"
             ],
             [
              1,
              "#fde725"
             ]
            ],
            "type": "histogram2dcontour"
           }
          ],
          "mesh3d": [
           {
            "colorbar": {
             "outlinewidth": 1,
             "tickcolor": "rgb(36,36,36)",
             "ticks": "outside"
            },
            "type": "mesh3d"
           }
          ],
          "parcoords": [
           {
            "line": {
             "colorbar": {
              "outlinewidth": 1,
              "tickcolor": "rgb(36,36,36)",
              "ticks": "outside"
             }
            },
            "type": "parcoords"
           }
          ],
          "pie": [
           {
            "automargin": true,
            "type": "pie"
           }
          ],
          "scatter": [
           {
            "fillpattern": {
             "fillmode": "overlay",
             "size": 10,
             "solidity": 0.2
            },
            "type": "scatter"
           }
          ],
          "scatter3d": [
           {
            "line": {
             "colorbar": {
              "outlinewidth": 1,
              "tickcolor": "rgb(36,36,36)",
              "ticks": "outside"
             }
            },
            "marker": {
             "colorbar": {
              "outlinewidth": 1,
              "tickcolor": "rgb(36,36,36)",
              "ticks": "outside"
             }
            },
            "type": "scatter3d"
           }
          ],
          "scattercarpet": [
           {
            "marker": {
             "colorbar": {
              "outlinewidth": 1,
              "tickcolor": "rgb(36,36,36)",
              "ticks": "outside"
             }
            },
            "type": "scattercarpet"
           }
          ],
          "scattergeo": [
           {
            "marker": {
             "colorbar": {
              "outlinewidth": 1,
              "tickcolor": "rgb(36,36,36)",
              "ticks": "outside"
             }
            },
            "type": "scattergeo"
           }
          ],
          "scattergl": [
           {
            "marker": {
             "colorbar": {
              "outlinewidth": 1,
              "tickcolor": "rgb(36,36,36)",
              "ticks": "outside"
             }
            },
            "type": "scattergl"
           }
          ],
          "scattermap": [
           {
            "marker": {
             "colorbar": {
              "outlinewidth": 1,
              "tickcolor": "rgb(36,36,36)",
              "ticks": "outside"
             }
            },
            "type": "scattermap"
           }
          ],
          "scattermapbox": [
           {
            "marker": {
             "colorbar": {
              "outlinewidth": 1,
              "tickcolor": "rgb(36,36,36)",
              "ticks": "outside"
             }
            },
            "type": "scattermapbox"
           }
          ],
          "scatterpolar": [
           {
            "marker": {
             "colorbar": {
              "outlinewidth": 1,
              "tickcolor": "rgb(36,36,36)",
              "ticks": "outside"
             }
            },
            "type": "scatterpolar"
           }
          ],
          "scatterpolargl": [
           {
            "marker": {
             "colorbar": {
              "outlinewidth": 1,
              "tickcolor": "rgb(36,36,36)",
              "ticks": "outside"
             }
            },
            "type": "scatterpolargl"
           }
          ],
          "scatterternary": [
           {
            "marker": {
             "colorbar": {
              "outlinewidth": 1,
              "tickcolor": "rgb(36,36,36)",
              "ticks": "outside"
             }
            },
            "type": "scatterternary"
           }
          ],
          "surface": [
           {
            "colorbar": {
             "outlinewidth": 1,
             "tickcolor": "rgb(36,36,36)",
             "ticks": "outside"
            },
            "colorscale": [
             [
              0,
              "#440154"
             ],
             [
              0.1111111111111111,
              "#482878"
             ],
             [
              0.2222222222222222,
              "#3e4989"
             ],
             [
              0.3333333333333333,
              "#31688e"
             ],
             [
              0.4444444444444444,
              "#26828e"
             ],
             [
              0.5555555555555556,
              "#1f9e89"
             ],
             [
              0.6666666666666666,
              "#35b779"
             ],
             [
              0.7777777777777778,
              "#6ece58"
             ],
             [
              0.8888888888888888,
              "#b5de2b"
             ],
             [
              1,
              "#fde725"
             ]
            ],
            "type": "surface"
           }
          ],
          "table": [
           {
            "cells": {
             "fill": {
              "color": "rgb(237,237,237)"
             },
             "line": {
              "color": "white"
             }
            },
            "header": {
             "fill": {
              "color": "rgb(217,217,217)"
             },
             "line": {
              "color": "white"
             }
            },
            "type": "table"
           }
          ]
         },
         "layout": {
          "annotationdefaults": {
           "arrowhead": 0,
           "arrowwidth": 1
          },
          "autotypenumbers": "strict",
          "coloraxis": {
           "colorbar": {
            "outlinewidth": 1,
            "tickcolor": "rgb(36,36,36)",
            "ticks": "outside"
           }
          },
          "colorscale": {
           "diverging": [
            [
             0,
             "rgb(103,0,31)"
            ],
            [
             0.1,
             "rgb(178,24,43)"
            ],
            [
             0.2,
             "rgb(214,96,77)"
            ],
            [
             0.3,
             "rgb(244,165,130)"
            ],
            [
             0.4,
             "rgb(253,219,199)"
            ],
            [
             0.5,
             "rgb(247,247,247)"
            ],
            [
             0.6,
             "rgb(209,229,240)"
            ],
            [
             0.7,
             "rgb(146,197,222)"
            ],
            [
             0.8,
             "rgb(67,147,195)"
            ],
            [
             0.9,
             "rgb(33,102,172)"
            ],
            [
             1,
             "rgb(5,48,97)"
            ]
           ],
           "sequential": [
            [
             0,
             "#440154"
            ],
            [
             0.1111111111111111,
             "#482878"
            ],
            [
             0.2222222222222222,
             "#3e4989"
            ],
            [
             0.3333333333333333,
             "#31688e"
            ],
            [
             0.4444444444444444,
             "#26828e"
            ],
            [
             0.5555555555555556,
             "#1f9e89"
            ],
            [
             0.6666666666666666,
             "#35b779"
            ],
            [
             0.7777777777777778,
             "#6ece58"
            ],
            [
             0.8888888888888888,
             "#b5de2b"
            ],
            [
             1,
             "#fde725"
            ]
           ],
           "sequentialminus": [
            [
             0,
             "#440154"
            ],
            [
             0.1111111111111111,
             "#482878"
            ],
            [
             0.2222222222222222,
             "#3e4989"
            ],
            [
             0.3333333333333333,
             "#31688e"
            ],
            [
             0.4444444444444444,
             "#26828e"
            ],
            [
             0.5555555555555556,
             "#1f9e89"
            ],
            [
             0.6666666666666666,
             "#35b779"
            ],
            [
             0.7777777777777778,
             "#6ece58"
            ],
            [
             0.8888888888888888,
             "#b5de2b"
            ],
            [
             1,
             "#fde725"
            ]
           ]
          },
          "colorway": [
           "#1F77B4",
           "#FF7F0E",
           "#2CA02C",
           "#D62728",
           "#9467BD",
           "#8C564B",
           "#E377C2",
           "#7F7F7F",
           "#BCBD22",
           "#17BECF"
          ],
          "font": {
           "color": "rgb(36,36,36)"
          },
          "geo": {
           "bgcolor": "white",
           "lakecolor": "white",
           "landcolor": "white",
           "showlakes": true,
           "showland": true,
           "subunitcolor": "white"
          },
          "hoverlabel": {
           "align": "left"
          },
          "hovermode": "closest",
          "mapbox": {
           "style": "light"
          },
          "paper_bgcolor": "white",
          "plot_bgcolor": "white",
          "polar": {
           "angularaxis": {
            "gridcolor": "rgb(232,232,232)",
            "linecolor": "rgb(36,36,36)",
            "showgrid": false,
            "showline": true,
            "ticks": "outside"
           },
           "bgcolor": "white",
           "radialaxis": {
            "gridcolor": "rgb(232,232,232)",
            "linecolor": "rgb(36,36,36)",
            "showgrid": false,
            "showline": true,
            "ticks": "outside"
           }
          },
          "scene": {
           "xaxis": {
            "backgroundcolor": "white",
            "gridcolor": "rgb(232,232,232)",
            "gridwidth": 2,
            "linecolor": "rgb(36,36,36)",
            "showbackground": true,
            "showgrid": false,
            "showline": true,
            "ticks": "outside",
            "zeroline": false,
            "zerolinecolor": "rgb(36,36,36)"
           },
           "yaxis": {
            "backgroundcolor": "white",
            "gridcolor": "rgb(232,232,232)",
            "gridwidth": 2,
            "linecolor": "rgb(36,36,36)",
            "showbackground": true,
            "showgrid": false,
            "showline": true,
            "ticks": "outside",
            "zeroline": false,
            "zerolinecolor": "rgb(36,36,36)"
           },
           "zaxis": {
            "backgroundcolor": "white",
            "gridcolor": "rgb(232,232,232)",
            "gridwidth": 2,
            "linecolor": "rgb(36,36,36)",
            "showbackground": true,
            "showgrid": false,
            "showline": true,
            "ticks": "outside",
            "zeroline": false,
            "zerolinecolor": "rgb(36,36,36)"
           }
          },
          "shapedefaults": {
           "fillcolor": "black",
           "line": {
            "width": 0
           },
           "opacity": 0.3
          },
          "ternary": {
           "aaxis": {
            "gridcolor": "rgb(232,232,232)",
            "linecolor": "rgb(36,36,36)",
            "showgrid": false,
            "showline": true,
            "ticks": "outside"
           },
           "baxis": {
            "gridcolor": "rgb(232,232,232)",
            "linecolor": "rgb(36,36,36)",
            "showgrid": false,
            "showline": true,
            "ticks": "outside"
           },
           "bgcolor": "white",
           "caxis": {
            "gridcolor": "rgb(232,232,232)",
            "linecolor": "rgb(36,36,36)",
            "showgrid": false,
            "showline": true,
            "ticks": "outside"
           }
          },
          "title": {
           "x": 0.05
          },
          "xaxis": {
           "automargin": true,
           "gridcolor": "rgb(232,232,232)",
           "linecolor": "rgb(36,36,36)",
           "showgrid": false,
           "showline": true,
           "ticks": "outside",
           "title": {
            "standoff": 15
           },
           "zeroline": false,
           "zerolinecolor": "rgb(36,36,36)"
          },
          "yaxis": {
           "automargin": true,
           "gridcolor": "rgb(232,232,232)",
           "linecolor": "rgb(36,36,36)",
           "showgrid": false,
           "showline": true,
           "ticks": "outside",
           "title": {
            "standoff": 15
           },
           "zeroline": false,
           "zerolinecolor": "rgb(36,36,36)"
          }
         }
        },
        "width": 1000,
        "xaxis": {
         "anchor": "y",
         "domain": [
          0,
          0.45
         ],
         "title": {
          "text": "Number of Function Evaluations"
         }
        },
        "xaxis2": {
         "anchor": "y2",
         "domain": [
          0.55,
          1
         ],
         "title": {
          "text": "Number of Function Evaluations"
         }
        },
        "yaxis": {
         "anchor": "x",
         "domain": [
          0,
          1
         ],
         "title": {
          "text": "Share of Function Distance to Optimum<br>Missing From Best So Far"
         }
        },
        "yaxis2": {
         "anchor": "x2",
         "domain": [
          0,
          1
         ],
         "title": {
          "text": "Share of Function Distance to Optimum<br>Missing From Best So Far"
         }
        }
       }
      }
     },
     "metadata": {},
     "output_type": "display_data"
    }
   ],
   "source": [
    "fig = om.convergence_plot(\n",
    "    problems=problems,\n",
    "    results=results,\n",
    "    n_cols=2,\n",
    "    problem_subset=[\"rosenbrock_good_start\", \"box_3d\"],\n",
    ")\n",
    "\n",
    "fig.show()"
   ]
  },
  {
   "cell_type": "code",
   "execution_count": 16,
   "id": "126f7656",
   "metadata": {},
   "outputs": [
    {
     "data": {
      "application/vnd.plotly.v1+json": {
       "config": {
        "plotlyServerURL": "https://plot.ly"
       },
       "data": [
        {
         "hovertemplate": "algorithm=nag_dfols<br>alpha=%{x}<br>0=%{y}<extra></extra>",
         "legendgroup": "nag_dfols",
         "line": {
          "color": "#636efa",
          "dash": "solid"
         },
         "marker": {
          "symbol": "circle"
         },
         "mode": "lines",
         "name": "nag_dfols",
         "showlegend": true,
         "type": "scattergl",
         "x": {
          "bdata": "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",
          "dtype": "f8"
         },
         "xaxis": "x",
         "y": {
          "bdata": "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",
          "dtype": "f8"
         },
         "yaxis": "y"
        },
        {
         "hovertemplate": "algorithm=nevergrad_cmaes<br>alpha=%{x}<br>0=%{y}<extra></extra>",
         "legendgroup": "nevergrad_cmaes",
         "line": {
          "color": "#EF553B",
          "dash": "solid"
         },
         "marker": {
          "symbol": "circle"
         },
         "mode": "lines",
         "name": "nevergrad_cmaes",
         "showlegend": true,
         "type": "scattergl",
         "x": {
          "bdata": "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",
          "dtype": "f8"
         },
         "xaxis": "x",
         "y": {
          "bdata": "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",
          "dtype": "f8"
         },
         "yaxis": "y"
        },
        {
         "hovertemplate": "algorithm=nevergrad_meta<br>alpha=%{x}<br>0=%{y}<extra></extra>",
         "legendgroup": "nevergrad_meta",
         "line": {
          "color": "#00cc96",
          "dash": "solid"
         },
         "marker": {
          "symbol": "circle"
         },
         "mode": "lines",
         "name": "nevergrad_meta",
         "showlegend": true,
         "type": "scattergl",
         "x": {
          "bdata": "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",
          "dtype": "f8"
         },
         "xaxis": "x",
         "y": {
          "bdata": "AAAAAAAAAAAAAAAAAAAAAAAAAAAAAAAAAAAAAAAAAAAAAAAAAAAAAAAAAAAAAAAAAAAAAAAAAAAAAAAAAAAAAAAAAAAAAAAAAAAAAAAAAAAAAAAAAAAAAAAAAAAAAAAAAAAAAAAAAAAAAAAAAAAAAAAAAAAAAAAAAAAAAAAAAAAAAAAAAAAAAAAAAAAAAAAAAAAAAAAAAAAAAAAAAAAAAAAAAAAAAAAAAAAAAAAAAAAAAAAAAAAAAAAAAAAAAAAAAAAAAAAAAAAAAAAAAAAAAAAAAAAAAAAAAAAAAAAAAAAAAAAAAAAAAAAAAAAAAAAAAAAAAAAAAAAAAAAAAAAAAAAAAAAAAAAAAAAAAAAAAAAAAAAAAAAAAAAAAAAAAAAAAAAAAAAAAAAAAAAAAAAAAAAAAAAAAAAAAAAAAAAAAAAAAAAAAAAAAAAAAAAAAAAAAAAAAAAAAAAAAAAAAAAAAAAAAAAAAAAAAAAAAAAAAAAAAAAAAAAAAAAAAAAAAAAAAAAAAAAAAAAAAAAAAAAAAAAAAAAAAAAAAAAAAAAAAAAAAAAAAAAAAAAAAAAAAAAAAAAAAAAAAAAAAAAAAAAAAAAAAAAAAAAAAAAAAAAAAAAAAAAAAAAAAAAAAAAAAAAAAAAAAAAAAAAAAAAAAAAAAAAAAAAAAAAAAAAAAAAAAAAAAAAAAAAAAAAAAAAAAAAAAAAAAAAAAAAAAAAAAAAAAAAAAAAAAAAAAAAAAAAAAAAAAAAAAAAAAAAAAAAAAAAAaC+hvYT2kj9oL6G9hPaSP2gvob2E9pI/aC+hvYT2kj9oL6G9hPaiP2gvob2E9qI/aC+hvYT2oj9oL6G9hPaiP2gvob2E9qI/aC+hvYT2oj9oL6G9hPaiP2gvob2E9qI/aC+hvYT2oj9oL6G9hPaiP2gvob2E9qI/aC+hvYT2oj9oL6G9hPaiP2gvob2E9qI/aC+hvYT2oj9oL6G9hPaiP2gvob2E9qI/aC+hvYT2oj9oL6G9hPaiP2gvob2E9qI/HMdxHMdxrD8cx3Ecx3GsPxzHcRzHcaw/HMdxHMdxrD8cx3Ecx3GsPxzHcRzHcaw/HMdxHMdxrD8cx3Ecx3GsPxzHcRzHcaw/HMdxHMdxrD8cx3Ecx3GsPxzHcRzHcaw/HMdxHMdxrD8cx3Ecx3GsPxzHcRzHcaw/HMdxHMdxrD8cx3Ecx3GsPxzHcRzHcaw/HMdxHMdxrD8cx3Ecx3GsPxzHcRzHcaw/HMdxHMdxrD8cx3Ecx3GsPxzHcRzHcaw/HMdxHMdxrD8cx3Ecx3GsPxzHcRzHcaw/HMdxHMdxrD8cx3Ecx3GsPxzHcRzHcaw/aC+hvYT2sj9oL6G9hPayP2gvob2E9rI/aC+hvYT2sj9oL6G9hPayP2gvob2E9rI/aC+hvYT2sj9oL6G9hPayP0J7Ce0ltLc/QnsJ7SW0tz9CewntJbS3P0J7Ce0ltLc/HMdxHMdxvD8cx3Ecx3G8PxzHcRzHcbw/HMdxHMdxvD97Ce0ltJfAP3sJ7SW0l8A/ewntJbSXwD97Ce0ltJfAP3sJ7SW0l8A/ewntJbSXwD97Ce0ltJfAP3sJ7SW0l8A/aC+hvYT2wj9oL6G9hPbCP2gvob2E9sI/aC+hvYT2wj9VVVVVVVXFP1VVVVVVVcU/VVVVVVVVxT9VVVVVVVXFP0J7Ce0ltMc/QnsJ7SW0xz9CewntJbTHP0J7Ce0ltMc/L6G9hPYSyj8vob2E9hLKPy+hvYT2Eso/L6G9hPYSyj8cx3Ecx3HMPxzHcRzHccw/HMdxHMdxzD8cx3Ecx3HMPwntJbSX0M4/Ce0ltJfQzj8J7SW0l9DOPwntJbSX0M4/ewntJbSX0D97Ce0ltJfQP3sJ7SW0l9A/ewntJbSX0D97Ce0ltJfQP3sJ7SW0l9A/ewntJbSX0D97Ce0ltJfQP3Icx3Ecx9E/chzHcRzH0T9yHMdxHMfRP3Icx3Ecx9E/chzHcRzH0T9yHMdxHMfRP2gvob2E9tI/aC+hvYT20j9oL6G9hPbSP2gvob2E9tI/aC+hvYT20j9oL6G9hPbSP2gvob2E9tI/aC+hvYT20j9oL6G9hPbSP2gvob2E9tI/aC+hvYT20j9oL6G9hPbSP2gvob2E9tI/aC+hvYT20j9oL6G9hPbSP2gvob2E9tI/aC+hvYT20j9oL6G9hPbSP19CewntJdQ/X0J7Ce0l1D9VVVVVVVXVP1VVVVVVVdU/VVVVVVVV1T9VVVVVVVXVP1VVVVVVVdU/VVVVVVVV1T9MaC+hvYTWP0xoL6G9hNY/QnsJ7SW01z9CewntJbTXP0J7Ce0ltNc/QnsJ7SW01z9CewntJbTXP0J7Ce0ltNc/QnsJ7SW01z9CewntJbTXP0J7Ce0ltNc/QnsJ7SW01z9CewntJbTXP0J7Ce0ltNc/QnsJ7SW01z9CewntJbTXP0J7Ce0ltNc/QnsJ7SW01z9CewntJbTXP0J7Ce0ltNc/QnsJ7SW01z9CewntJbTXP0J7Ce0ltNc/QnsJ7SW01z9CewntJbTXP0J7Ce0ltNc/QnsJ7SW01z9CewntJbTXP0J7Ce0ltNc/QnsJ7SW01z85juM4juPYPzmO4ziO49g/OY7jOI7j2D85juM4juPYPy+hvYT2Eto/L6G9hPYS2j8vob2E9hLaPy+hvYT2Eto/L6G9hPYS2j8vob2E9hLaPy+hvYT2Eto/L6G9hPYS2j8mtJfQXkLbPya0l9BeQts/HMdxHMdx3D8cx3Ecx3HcPxzHcRzHcdw/HMdxHMdx3D8cx3Ecx3HcPxzHcRzHcdw/HMdxHMdx3D8cx3Ecx3HcPxzHcRzHcdw/HMdxHMdx3D8T2ktoL6HdPxPaS2gvod0/AAAAAAAA4D8AAAAAAADgPwAAAAAAAOA/AAAAAAAA4D8AAAAAAADgPwAAAAAAAOA/ewntJbSX4D97Ce0ltJfgP3sJ7SW0l+A/ewntJbSX4D/3EtpLaC/hP/cS2ktoL+E/9xLaS2gv4T/3EtpLaC/hP/cS2ktoL+E/9xLaS2gv4T/3EtpLaC/hP/cS2ktoL+E/9xLaS2gv4T/3EtpLaC/hP3Icx3Ecx+E/chzHcRzH4T9yHMdxHMfhP3Icx3Ecx+E/chzHcRzH4T9yHMdxHMfhP+0ltJfQXuI/7SW0l9Be4j9oL6G9hPbiP2gvob2E9uI/aC+hvYT24j9oL6G9hPbiP2gvob2E9uI/aC+hvYT24j/kOI7jOI7jP+Q4juM4juM/5DiO4ziO4z/kOI7jOI7jP+Q4juM4juM/5DiO4ziO4z9fQnsJ7SXkP19CewntJeQ/X0J7Ce0l5D9fQnsJ7SXkP9pLaC+hveQ/2ktoL6G95D/aS2gvob3kP9pLaC+hveQ/VVVVVVVV5T9VVVVVVVXlP1VVVVVVVeU/VVVVVVVV5T9VVVVVVVXlPw==",
          "dtype": "f8"
         },
         "yaxis": "y"
        },
        {
         "hovertemplate": "algorithm=scipy_neldermead<br>alpha=%{x}<br>0=%{y}<extra></extra>",
         "legendgroup": "scipy_neldermead",
         "line": {
          "color": "#ab63fa",
          "dash": "solid"
         },
         "marker": {
          "symbol": "circle"
         },
         "mode": "lines",
         "name": "scipy_neldermead",
         "showlegend": true,
         "type": "scattergl",
         "x": {
          "bdata": "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",
          "dtype": "f8"
         },
         "xaxis": "x",
         "y": {
          "bdata": "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",
          "dtype": "f8"
         },
         "yaxis": "y"
        },
        {
         "hovertemplate": "algorithm=scipy_truncated_newton<br>alpha=%{x}<br>0=%{y}<extra></extra>",
         "legendgroup": "scipy_truncated_newton",
         "line": {
          "color": "#FFA15A",
          "dash": "solid"
         },
         "marker": {
          "symbol": "circle"
         },
         "mode": "lines",
         "name": "scipy_truncated_newton",
         "showlegend": true,
         "type": "scattergl",
         "x": {
          "bdata": "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",
          "dtype": "f8"
         },
         "xaxis": "x",
         "y": {
          "bdata": "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",
          "dtype": "f8"
         },
         "yaxis": "y"
        }
       ],
       "layout": {
        "height": 300,
        "legend": {
         "title": {
          "text": "algorithm"
         },
         "tracegroupgap": 0
        },
        "margin": {
         "b": 10,
         "l": 10,
         "r": 10,
         "t": 30
        },
        "shapes": [
         {
          "type": "line",
          "x0": 0,
          "x1": 1,
          "xref": "x domain",
          "y0": 1,
          "y1": 1,
          "yref": "y"
         }
        ],
        "template": {
         "data": {
          "bar": [
           {
            "error_x": {
             "color": "rgb(36,36,36)"
            },
            "error_y": {
             "color": "rgb(36,36,36)"
            },
            "marker": {
             "line": {
              "color": "white",
              "width": 0.5
             },
             "pattern": {
              "fillmode": "overlay",
              "size": 10,
              "solidity": 0.2
             }
            },
            "type": "bar"
           }
          ],
          "barpolar": [
           {
            "marker": {
             "line": {
              "color": "white",
              "width": 0.5
             },
             "pattern": {
              "fillmode": "overlay",
              "size": 10,
              "solidity": 0.2
             }
            },
            "type": "barpolar"
           }
          ],
          "carpet": [
           {
            "aaxis": {
             "endlinecolor": "rgb(36,36,36)",
             "gridcolor": "white",
             "linecolor": "white",
             "minorgridcolor": "white",
             "startlinecolor": "rgb(36,36,36)"
            },
            "baxis": {
             "endlinecolor": "rgb(36,36,36)",
             "gridcolor": "white",
             "linecolor": "white",
             "minorgridcolor": "white",
             "startlinecolor": "rgb(36,36,36)"
            },
            "type": "carpet"
           }
          ],
          "choropleth": [
           {
            "colorbar": {
             "outlinewidth": 1,
             "tickcolor": "rgb(36,36,36)",
             "ticks": "outside"
            },
            "type": "choropleth"
           }
          ],
          "contour": [
           {
            "colorbar": {
             "outlinewidth": 1,
             "tickcolor": "rgb(36,36,36)",
             "ticks": "outside"
            },
            "colorscale": [
             [
              0,
              "#440154"
             ],
             [
              0.1111111111111111,
              "#482878"
             ],
             [
              0.2222222222222222,
              "#3e4989"
             ],
             [
              0.3333333333333333,
              "#31688e"
             ],
             [
              0.4444444444444444,
              "#26828e"
             ],
             [
              0.5555555555555556,
              "#1f9e89"
             ],
             [
              0.6666666666666666,
              "#35b779"
             ],
             [
              0.7777777777777778,
              "#6ece58"
             ],
             [
              0.8888888888888888,
              "#b5de2b"
             ],
             [
              1,
              "#fde725"
             ]
            ],
            "type": "contour"
           }
          ],
          "contourcarpet": [
           {
            "colorbar": {
             "outlinewidth": 1,
             "tickcolor": "rgb(36,36,36)",
             "ticks": "outside"
            },
            "type": "contourcarpet"
           }
          ],
          "heatmap": [
           {
            "colorbar": {
             "outlinewidth": 1,
             "tickcolor": "rgb(36,36,36)",
             "ticks": "outside"
            },
            "colorscale": [
             [
              0,
              "#440154"
             ],
             [
              0.1111111111111111,
              "#482878"
             ],
             [
              0.2222222222222222,
              "#3e4989"
             ],
             [
              0.3333333333333333,
              "#31688e"
             ],
             [
              0.4444444444444444,
              "#26828e"
             ],
             [
              0.5555555555555556,
              "#1f9e89"
             ],
             [
              0.6666666666666666,
              "#35b779"
             ],
             [
              0.7777777777777778,
              "#6ece58"
             ],
             [
              0.8888888888888888,
              "#b5de2b"
             ],
             [
              1,
              "#fde725"
             ]
            ],
            "type": "heatmap"
           }
          ],
          "histogram": [
           {
            "marker": {
             "line": {
              "color": "white",
              "width": 0.6
             }
            },
            "type": "histogram"
           }
          ],
          "histogram2d": [
           {
            "colorbar": {
             "outlinewidth": 1,
             "tickcolor": "rgb(36,36,36)",
             "ticks": "outside"
            },
            "colorscale": [
             [
              0,
              "#440154"
             ],
             [
              0.1111111111111111,
              "#482878"
             ],
             [
              0.2222222222222222,
              "#3e4989"
             ],
             [
              0.3333333333333333,
              "#31688e"
             ],
             [
              0.4444444444444444,
              "#26828e"
             ],
             [
              0.5555555555555556,
              "#1f9e89"
             ],
             [
              0.6666666666666666,
              "#35b779"
             ],
             [
              0.7777777777777778,
              "#6ece58"
             ],
             [
              0.8888888888888888,
              "#b5de2b"
             ],
             [
              1,
              "#fde725"
             ]
            ],
            "type": "histogram2d"
           }
          ],
          "histogram2dcontour": [
           {
            "colorbar": {
             "outlinewidth": 1,
             "tickcolor": "rgb(36,36,36)",
             "ticks": "outside"
            },
            "colorscale": [
             [
              0,
              "#440154"
             ],
             [
              0.1111111111111111,
              "#482878"
             ],
             [
              0.2222222222222222,
              "#3e4989"
             ],
             [
              0.3333333333333333,
              "#31688e"
             ],
             [
              0.4444444444444444,
              "#26828e"
             ],
             [
              0.5555555555555556,
              "#1f9e89"
             ],
             [
              0.6666666666666666,
              "#35b779"
             ],
             [
              0.7777777777777778,
              "#6ece58"
             ],
             [
              0.8888888888888888,
              "#b5de2b"
             ],
             [
              1,
              "#fde725"
             ]
            ],
            "type": "histogram2dcontour"
           }
          ],
          "mesh3d": [
           {
            "colorbar": {
             "outlinewidth": 1,
             "tickcolor": "rgb(36,36,36)",
             "ticks": "outside"
            },
            "type": "mesh3d"
           }
          ],
          "parcoords": [
           {
            "line": {
             "colorbar": {
              "outlinewidth": 1,
              "tickcolor": "rgb(36,36,36)",
              "ticks": "outside"
             }
            },
            "type": "parcoords"
           }
          ],
          "pie": [
           {
            "automargin": true,
            "type": "pie"
           }
          ],
          "scatter": [
           {
            "fillpattern": {
             "fillmode": "overlay",
             "size": 10,
             "solidity": 0.2
            },
            "type": "scatter"
           }
          ],
          "scatter3d": [
           {
            "line": {
             "colorbar": {
              "outlinewidth": 1,
              "tickcolor": "rgb(36,36,36)",
              "ticks": "outside"
             }
            },
            "marker": {
             "colorbar": {
              "outlinewidth": 1,
              "tickcolor": "rgb(36,36,36)",
              "ticks": "outside"
             }
            },
            "type": "scatter3d"
           }
          ],
          "scattercarpet": [
           {
            "marker": {
             "colorbar": {
              "outlinewidth": 1,
              "tickcolor": "rgb(36,36,36)",
              "ticks": "outside"
             }
            },
            "type": "scattercarpet"
           }
          ],
          "scattergeo": [
           {
            "marker": {
             "colorbar": {
              "outlinewidth": 1,
              "tickcolor": "rgb(36,36,36)",
              "ticks": "outside"
             }
            },
            "type": "scattergeo"
           }
          ],
          "scattergl": [
           {
            "marker": {
             "colorbar": {
              "outlinewidth": 1,
              "tickcolor": "rgb(36,36,36)",
              "ticks": "outside"
             }
            },
            "type": "scattergl"
           }
          ],
          "scattermap": [
           {
            "marker": {
             "colorbar": {
              "outlinewidth": 1,
              "tickcolor": "rgb(36,36,36)",
              "ticks": "outside"
             }
            },
            "type": "scattermap"
           }
          ],
          "scattermapbox": [
           {
            "marker": {
             "colorbar": {
              "outlinewidth": 1,
              "tickcolor": "rgb(36,36,36)",
              "ticks": "outside"
             }
            },
            "type": "scattermapbox"
           }
          ],
          "scatterpolar": [
           {
            "marker": {
             "colorbar": {
              "outlinewidth": 1,
              "tickcolor": "rgb(36,36,36)",
              "ticks": "outside"
             }
            },
            "type": "scatterpolar"
           }
          ],
          "scatterpolargl": [
           {
            "marker": {
             "colorbar": {
              "outlinewidth": 1,
              "tickcolor": "rgb(36,36,36)",
              "ticks": "outside"
             }
            },
            "type": "scatterpolargl"
           }
          ],
          "scatterternary": [
           {
            "marker": {
             "colorbar": {
              "outlinewidth": 1,
              "tickcolor": "rgb(36,36,36)",
              "ticks": "outside"
             }
            },
            "type": "scatterternary"
           }
          ],
          "surface": [
           {
            "colorbar": {
             "outlinewidth": 1,
             "tickcolor": "rgb(36,36,36)",
             "ticks": "outside"
            },
            "colorscale": [
             [
              0,
              "#440154"
             ],
             [
              0.1111111111111111,
              "#482878"
             ],
             [
              0.2222222222222222,
              "#3e4989"
             ],
             [
              0.3333333333333333,
              "#31688e"
             ],
             [
              0.4444444444444444,
              "#26828e"
             ],
             [
              0.5555555555555556,
              "#1f9e89"
             ],
             [
              0.6666666666666666,
              "#35b779"
             ],
             [
              0.7777777777777778,
              "#6ece58"
             ],
             [
              0.8888888888888888,
              "#b5de2b"
             ],
             [
              1,
              "#fde725"
             ]
            ],
            "type": "surface"
           }
          ],
          "table": [
           {
            "cells": {
             "fill": {
              "color": "rgb(237,237,237)"
             },
             "line": {
              "color": "white"
             }
            },
            "header": {
             "fill": {
              "color": "rgb(217,217,217)"
             },
             "line": {
              "color": "white"
             }
            },
            "type": "table"
           }
          ]
         },
         "layout": {
          "annotationdefaults": {
           "arrowhead": 0,
           "arrowwidth": 1
          },
          "autotypenumbers": "strict",
          "coloraxis": {
           "colorbar": {
            "outlinewidth": 1,
            "tickcolor": "rgb(36,36,36)",
            "ticks": "outside"
           }
          },
          "colorscale": {
           "diverging": [
            [
             0,
             "rgb(103,0,31)"
            ],
            [
             0.1,
             "rgb(178,24,43)"
            ],
            [
             0.2,
             "rgb(214,96,77)"
            ],
            [
             0.3,
             "rgb(244,165,130)"
            ],
            [
             0.4,
             "rgb(253,219,199)"
            ],
            [
             0.5,
             "rgb(247,247,247)"
            ],
            [
             0.6,
             "rgb(209,229,240)"
            ],
            [
             0.7,
             "rgb(146,197,222)"
            ],
            [
             0.8,
             "rgb(67,147,195)"
            ],
            [
             0.9,
             "rgb(33,102,172)"
            ],
            [
             1,
             "rgb(5,48,97)"
            ]
           ],
           "sequential": [
            [
             0,
             "#440154"
            ],
            [
             0.1111111111111111,
             "#482878"
            ],
            [
             0.2222222222222222,
             "#3e4989"
            ],
            [
             0.3333333333333333,
             "#31688e"
            ],
            [
             0.4444444444444444,
             "#26828e"
            ],
            [
             0.5555555555555556,
             "#1f9e89"
            ],
            [
             0.6666666666666666,
             "#35b779"
            ],
            [
             0.7777777777777778,
             "#6ece58"
            ],
            [
             0.8888888888888888,
             "#b5de2b"
            ],
            [
             1,
             "#fde725"
            ]
           ],
           "sequentialminus": [
            [
             0,
             "#440154"
            ],
            [
             0.1111111111111111,
             "#482878"
            ],
            [
             0.2222222222222222,
             "#3e4989"
            ],
            [
             0.3333333333333333,
             "#31688e"
            ],
            [
             0.4444444444444444,
             "#26828e"
            ],
            [
             0.5555555555555556,
             "#1f9e89"
            ],
            [
             0.6666666666666666,
             "#35b779"
            ],
            [
             0.7777777777777778,
             "#6ece58"
            ],
            [
             0.8888888888888888,
             "#b5de2b"
            ],
            [
             1,
             "#fde725"
            ]
           ]
          },
          "colorway": [
           "#1F77B4",
           "#FF7F0E",
           "#2CA02C",
           "#D62728",
           "#9467BD",
           "#8C564B",
           "#E377C2",
           "#7F7F7F",
           "#BCBD22",
           "#17BECF"
          ],
          "font": {
           "color": "rgb(36,36,36)"
          },
          "geo": {
           "bgcolor": "white",
           "lakecolor": "white",
           "landcolor": "white",
           "showlakes": true,
           "showland": true,
           "subunitcolor": "white"
          },
          "hoverlabel": {
           "align": "left"
          },
          "hovermode": "closest",
          "mapbox": {
           "style": "light"
          },
          "paper_bgcolor": "white",
          "plot_bgcolor": "white",
          "polar": {
           "angularaxis": {
            "gridcolor": "rgb(232,232,232)",
            "linecolor": "rgb(36,36,36)",
            "showgrid": false,
            "showline": true,
            "ticks": "outside"
           },
           "bgcolor": "white",
           "radialaxis": {
            "gridcolor": "rgb(232,232,232)",
            "linecolor": "rgb(36,36,36)",
            "showgrid": false,
            "showline": true,
            "ticks": "outside"
           }
          },
          "scene": {
           "xaxis": {
            "backgroundcolor": "white",
            "gridcolor": "rgb(232,232,232)",
            "gridwidth": 2,
            "linecolor": "rgb(36,36,36)",
            "showbackground": true,
            "showgrid": false,
            "showline": true,
            "ticks": "outside",
            "zeroline": false,
            "zerolinecolor": "rgb(36,36,36)"
           },
           "yaxis": {
            "backgroundcolor": "white",
            "gridcolor": "rgb(232,232,232)",
            "gridwidth": 2,
            "linecolor": "rgb(36,36,36)",
            "showbackground": true,
            "showgrid": false,
            "showline": true,
            "ticks": "outside",
            "zeroline": false,
            "zerolinecolor": "rgb(36,36,36)"
           },
           "zaxis": {
            "backgroundcolor": "white",
            "gridcolor": "rgb(232,232,232)",
            "gridwidth": 2,
            "linecolor": "rgb(36,36,36)",
            "showbackground": true,
            "showgrid": false,
            "showline": true,
            "ticks": "outside",
            "zeroline": false,
            "zerolinecolor": "rgb(36,36,36)"
           }
          },
          "shapedefaults": {
           "fillcolor": "black",
           "line": {
            "width": 0
           },
           "opacity": 0.3
          },
          "ternary": {
           "aaxis": {
            "gridcolor": "rgb(232,232,232)",
            "linecolor": "rgb(36,36,36)",
            "showgrid": false,
            "showline": true,
            "ticks": "outside"
           },
           "baxis": {
            "gridcolor": "rgb(232,232,232)",
            "linecolor": "rgb(36,36,36)",
            "showgrid": false,
            "showline": true,
            "ticks": "outside"
           },
           "bgcolor": "white",
           "caxis": {
            "gridcolor": "rgb(232,232,232)",
            "linecolor": "rgb(36,36,36)",
            "showgrid": false,
            "showline": true,
            "ticks": "outside"
           }
          },
          "title": {
           "x": 0.05
          },
          "xaxis": {
           "automargin": true,
           "gridcolor": "rgb(232,232,232)",
           "linecolor": "rgb(36,36,36)",
           "showgrid": false,
           "showline": true,
           "ticks": "outside",
           "title": {
            "standoff": 15
           },
           "zeroline": false,
           "zerolinecolor": "rgb(36,36,36)"
          },
          "yaxis": {
           "automargin": true,
           "gridcolor": "rgb(232,232,232)",
           "linecolor": "rgb(36,36,36)",
           "showgrid": false,
           "showline": true,
           "ticks": "outside",
           "title": {
            "standoff": 15
           },
           "zeroline": false,
           "zerolinecolor": "rgb(36,36,36)"
          }
         }
        },
        "title": {},
        "width": 500,
        "xaxis": {
         "anchor": "y",
         "domain": [
          0,
          1
         ],
         "title": {
          "text": "Number of Function Evaluations"
         }
        },
        "yaxis": {
         "anchor": "x",
         "domain": [
          0,
          1
         ],
         "title": {
          "text": "Share of Problems Solved"
         }
        }
       }
      }
     },
     "metadata": {},
     "output_type": "display_data"
    }
   ],
   "source": [
    "fig = om.profile_plot(\n",
    "    problems=problems,\n",
    "    results=results,\n",
    ")\n",
    "\n",
    "fig.show()"
   ]
  },
  {
   "cell_type": "code",
   "execution_count": null,
   "id": "32a09c46",
   "metadata": {},
   "outputs": [],
   "source": []
  }
 ],
 "metadata": {
  "kernelspec": {
   "display_name": "optimagic",
   "language": "python",
   "name": "python3"
  },
  "language_info": {
   "codemirror_mode": {
    "name": "ipython",
    "version": 3
   },
   "file_extension": ".py",
   "mimetype": "text/x-python",
   "name": "python",
   "nbconvert_exporter": "python",
   "pygments_lexer": "ipython3",
   "version": "3.10.18"
  }
 },
 "nbformat": 4,
 "nbformat_minor": 5
}
